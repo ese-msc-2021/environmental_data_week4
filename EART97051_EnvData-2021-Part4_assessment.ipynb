{
 "cells": [
  {
   "cell_type": "markdown",
   "metadata": {},
   "source": [
    "### IMPERIAL COLLEGE LONDON\n",
    "\n",
    "### ASSESSMENT 2021/22\n",
    "\n",
    "#### For internal students of Imperial College London\n",
    "#### Taken by students of:\n",
    "\n",
    "### MSc Earth Data Science and Machine Learning\n",
    "\n",
    "## \"EART97051 Environmental Data\"\n",
    "\n",
    "* ### Week `4` : `Remote sensing or Earth Observation data & analysis`\n",
    "\n",
    "* ### **This is a timed assessment. You have from 13:00 pm until 17:00 pm GMT on Friday, December 10th 2021, to complete this assessment.** \n",
    "\n",
    "---\n",
    "\n",
    "### Disclaimer\n",
    "\n",
    "#### Assessment type\n",
    "\n",
    "The assessments are run as open-book assessments and therefore aim to test synthesis and mastery of knowledge rather than factual recall. \n",
    "\n",
    "Be aware that excessive reliance on sources such as the internet, notes or other sources of factual information will affect the time provided and could therefore prove counterproductive as it may well limit your time to successfully synthesise the answers required.\n",
    "\n",
    "#### Plagiarism\n",
    "\n",
    "This assessement is open book, you can use class notes and online resources. However, this assessment is an **individual assessment** and is subject to standard academic honesty regulations in place at Imperial College London. \n",
    "\n",
    "The use of the work of another student, past or present, constitutes plagiarism. Giving your work to another student to use may also constitute an offence. Collusion is a form of plagiarism and will be treated in a similar manner. This is an **individual assessment** and thus should be completed solely by you. The College will investigate all instances where an assessment offence is reported or suspected, using plagiarism software, vivas and other tools, and apply appropriate penalties to students.\n",
    "\n",
    "---\n",
    "\n",
    "### Submitting your assessment\n",
    "\n",
    "Code pushed after the deadline or sent via email/Teams will not be taken into consideration unless there are very good mitigating circumstances. We recommend pushing intermediate solutions of your code often.\n",
    "\n",
    "#### Submission process:\n",
    "\n",
    "The GitHub Classroom link for this assessment is: \n",
    "[`name of http link to the github classroom with the exam`](`actual link to the github classroom`)\n",
    "\n",
    "When satisfied with your anwers, **YOU NEED TO PUSH YOUR ASSESSMENT TO GitHub Classroom!** Solution notebooks not pushed to GitHub classroom before the deadline will not be taken into consideration. \n",
    "\n",
    "Your answers will be 'frozen' by the submission deadline set above. Any modifications applied after that time will not be taken into account. \n",
    "\n",
    "You can push to GitHub as often you want during the assessment (only the last push before the deadline will be evaluated): so don't leave it to the last minute, feel free to push updates. \n",
    "\n",
    "#### Ancillary files\n",
    "\n",
    "If your code or answers depend on additional files, such as images, photos, or small data files, then make sure to include these in your submission as well.\n",
    "\n",
    "---\n",
    "\n",
    "#### Assessed Coursework Structure and marking criteria\n",
    "\n",
    "This assessment is marked out of a maximum of 100 marks. The total number of achievable point per question is clearly indicated. You need to answer all questions to achieve the maximum mark.\n",
    "\n",
    "#### Assessment Criteria\n",
    "\n",
    "In all assessments, we will analyse performance against performance on the rest of the course and against data from previous years and use an evidence-based approach to maintain a fair and robust assessment. As with all assessments, the best strategy is to read the question carefully and answer as fully as possible, taking account of the time and number of marks available. \n",
    "\n",
    "When answering, **keep in mind the 4 main learning objectives of this module**. The assessment aims to measure how well you meet these objectives so your final mark will be benchmarked against these objectives.  \n",
    "\n",
    "Clean code: When presenting code, follow general clean code pracices, e.g. code is well organised and easy to read and understand, avoids repetition of code by creating functions where needed (DRY principle), **code can be executed** top to bottom in the notebook, variable names are logical, required libraries specified. \n",
    "\n",
    "---"
   ]
  },
  {
   "cell_type": "markdown",
   "metadata": {},
   "source": [
    "# --- ASSESSMENT STARTS HERE ---"
   ]
  },
  {
   "cell_type": "markdown",
   "metadata": {},
   "source": [
    "## >> ENTER YOUR YOUR CID HERE:\n",
    "\n",
    "(Do not enter your name - exams are marked anonymously. We only need that information to facilitate linking your mark to your record after marking is finished)\n",
    "\n",
    "---"
   ]
  },
  {
   "cell_type": "markdown",
   "metadata": {},
   "source": [
    "## - PART 1 - Conceptual understanding (subtotal 30 POINTS)\n",
    "\n",
    "Essay-style questions: Answer the questions in this section as well and completely as you can in the form of a few sentences, paragraphs. You may use code to illustrate your answer. You may also add images or figures if necesssary, using `![fig title](path/to/figure.png)`. If doing so, make sure to also upload the folder with your images to github classroom as part of your submission (figures could be readable photos of hand-drawn schematics if appropriate). You can of course use/add as many cells as necessary to answer each questions. "
   ]
  },
  {
   "cell_type": "markdown",
   "metadata": {},
   "source": [
    "### 1. Explain the relationship between the different elements of sensor resolution. Comment also on other important sensor capabilities/specifications, and how all these govern what kind of applications an EO sensor can be used for. (15 POINTS)"
   ]
  },
  {
   "cell_type": "markdown",
   "metadata": {},
   "source": [
    "**YOUR ANSWER:** "
   ]
  },
  {
   "cell_type": "markdown",
   "metadata": {},
   "source": []
  },
  {
   "cell_type": "markdown",
   "metadata": {},
   "source": [
    "### 2. What are the most import considerations for data preparation/image understanding when considering how to exploit EO image data for environmental applications? (15 POINTS)"
   ]
  },
  {
   "cell_type": "markdown",
   "metadata": {},
   "source": [
    "**YOUR ANSWER:**"
   ]
  },
  {
   "cell_type": "markdown",
   "metadata": {},
   "source": []
  },
  {
   "cell_type": "markdown",
   "metadata": {},
   "source": [
    "## - Part 2 - Data analysis (subtotal 35 POINTS)"
   ]
  },
  {
   "cell_type": "markdown",
   "metadata": {},
   "source": [
    "### 4. Present an analysis of the following data.  "
   ]
  },
  {
   "cell_type": "markdown",
   "metadata": {},
   "source": [
    "### Download the following multispectral image dataset: (`data/Sentinel-data_utm23.zip`)\n",
    "\n",
    "**1. Write a function to read/import the image data into this notebook and finds out the number of rows & columns, and spectral bands. ** (**15 POINTS**)"
   ]
  },
  {
   "cell_type": "code",
   "execution_count": null,
   "metadata": {},
   "outputs": [],
   "source": []
  },
  {
   "cell_type": "markdown",
   "metadata": {},
   "source": [
    "**2. Investigate the data file, separate out the spectral bands, explain what these bands represent and how they are organized in the data file (what is the image spatial resolution?, and where in the world is this?).** (**5 POINTS**)"
   ]
  },
  {
   "cell_type": "code",
   "execution_count": null,
   "metadata": {},
   "outputs": [],
   "source": []
  },
  {
   "cell_type": "markdown",
   "metadata": {},
   "source": [
    "**3. Write code to generate two composite images from the dataset. Try to figure out which spectral bands are included in this file, and which band is which, and so correctly label the colour composites? Your plots should be clean, professional, well-labeled and annotated as required to clearly showcase the data and communicate what they are.  ** (**10 POINTS**)"
   ]
  },
  {
   "cell_type": "code",
   "execution_count": null,
   "metadata": {},
   "outputs": [],
   "source": []
  },
  {
   "cell_type": "markdown",
   "metadata": {},
   "source": [
    "**4. Create a plot of the image histogram for each of the bands in this colour composite image. What are the value ranges & how are the data quantised?  How many populations are there and what image information do they represent?  Your plots should be clean, professional, well-labeled and annotated as required to clearly showcase the data and communicate what they are.** (**5 POINTS**) "
   ]
  },
  {
   "cell_type": "code",
   "execution_count": null,
   "metadata": {},
   "outputs": [],
   "source": []
  },
  {
   "cell_type": "markdown",
   "metadata": {},
   "source": [
    "**YOUR ANSWER:**"
   ]
  },
  {
   "cell_type": "markdown",
   "metadata": {},
   "source": []
  },
  {
   "cell_type": "markdown",
   "metadata": {},
   "source": [
    "## - Part 3 - Scenario-driven data analysis (subtotal 35 POINTS)"
   ]
  },
  {
   "cell_type": "markdown",
   "metadata": {},
   "source": [
    "**Your mandate:** Develop a research strategy that addresses the following scenario as completely and professionally as possible given the time available. Make sure to account for data considerations and uncertainties throughout your answer. As part of your answer, incorporate some working code to demonstrate your technical ability to deliver the project and present some initial results if possible. "
   ]
  },
  {
   "cell_type": "markdown",
   "metadata": {},
   "source": [
    "**Scenario**:\n",
    "` The Indian subcontinent has experienced major, widespread and devastating flood events many times in history – such as the 2007 and 2012 floods in Assam state, NE India. Politicians need to manage the effects of such events. Farmers want to know if the problem is getting worse and everyone wants to know if it is related to climate change?  Flood Hazard Zonation is one of the most important measures that helps with regulation and emergency planning, as well as for the sustainable development of a region.  `\n",
    "\n",
    "**Given the limited time available to you now, Your task is to design a workflow for flood mapping and hazard analysis, to show the extents of the floods, and the trends over time; you can use the case of Assam state to illustrate. Include the data that would be needed for processing and analysis, as well as the processing techniques that would be needed to extract the necessary information. You may use code to illustrate your answer. You may also add images or figures if necesssary, using `![fig title](path/to/figure.png)`. If doing so, make sure to also upload the folder with your images to github classroom as part of your submission (figures could be readable photos of hand-drawn schematics if appropriate). You can of course use/add as many cells as necessary to answer each question.** \n",
    "\n",
    "\n",
    "\n",
    "    \n"
   ]
  },
  {
   "cell_type": "markdown",
   "metadata": {},
   "source": [
    "**YOUR ANSWER STARTS HERE:**"
   ]
  },
  {
   "cell_type": "markdown",
   "metadata": {},
   "source": []
  },
  {
   "cell_type": "code",
   "execution_count": null,
   "metadata": {},
   "outputs": [],
   "source": []
  },
  {
   "cell_type": "markdown",
   "metadata": {},
   "source": [
    "## ---------------\n",
    "## Do not forget to push your final answers to the Github Classroom when done!\n",
    "# - End of assessment -"
   ]
  }
 ],
 "metadata": {
  "interpreter": {
   "hash": "70371e773136594d30d0e78906af2c7f432cd5459c4a58da662094ce1bdf37a0"
  },
  "kernelspec": {
   "display_name": "Python 3 (ipykernel)",
   "language": "python",
   "name": "python3"
  },
  "language_info": {
   "codemirror_mode": {
    "name": "ipython",
    "version": 3
   },
   "file_extension": ".py",
   "mimetype": "text/x-python",
   "name": "python",
   "nbconvert_exporter": "python",
   "pygments_lexer": "ipython3",
   "version": "3.8.10"
  }
 },
 "nbformat": 4,
 "nbformat_minor": 2
}
